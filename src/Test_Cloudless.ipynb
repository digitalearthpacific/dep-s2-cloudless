{
 "cells": [
  {
   "cell_type": "code",
   "execution_count": null,
   "metadata": {},
   "outputs": [],
   "source": [
    "from datacube.utils.dask import start_local_dask\n",
    "from dep_tools.loaders import Sentinel2OdcLoader\n",
    "from dep_tools.namers import LocalPath\n",
    "from dep_tools.writers import LocalDsWriter\n",
    "from pystac import Item\n",
    "\n",
    "from grid import grid\n",
    "\n",
    "from run_task import CloudlessProcessor"
   ]
  },
  {
   "cell_type": "code",
   "execution_count": null,
   "metadata": {},
   "outputs": [],
   "source": [
    "%load_ext autoreload\n",
    "%autoreload 2"
   ]
  },
  {
   "cell_type": "code",
   "execution_count": null,
   "metadata": {},
   "outputs": [],
   "source": [
    "# Optionally set up a local dask cluster\n",
    "client = start_local_dask()\n",
    "client.dashboard_link"
   ]
  },
  {
   "cell_type": "code",
   "execution_count": null,
   "metadata": {},
   "outputs": [],
   "source": [
    "# Study site configuration\n",
    "region_code = \"FJ\"\n",
    "region_index = \"63,20\"\n",
    "datetime = \"2023-09\"\n",
    "dep_path = LocalPath(\n",
    "    local_folder=\"data\",\n",
    "    sensor=\"s2\",\n",
    "    dataset_id=\"cloudless\",\n",
    "    version=\"0.0.0\",\n",
    "    time=datetime,\n",
    ")\n",
    "item_id = f\"{region_code}_{region_index}\"\n",
    "\n",
    "# Set up a data loader\n",
    "loader = Sentinel2OdcLoader(\n",
    "    epsg=3857,\n",
    "    datetime=datetime,\n",
    "    dask_chunksize=dict(band=1, time=1, x=4096, y=4096),\n",
    "    odc_load_kwargs=dict(\n",
    "        fail_on_error=False, resolution=10, bands=[\"SCL\", \"B04\", \"B03\", \"B02\"]\n",
    "    ),\n",
    ")\n",
    "\n",
    "# And a data processor\n",
    "processor = CloudlessProcessor()\n",
    "\n",
    "# And get the study site\n",
    "cell = grid.loc[[(region_index, region_code)]]\n",
    "cell.explore()"
   ]
  },
  {
   "cell_type": "code",
   "execution_count": null,
   "metadata": {},
   "outputs": [],
   "source": [
    "# Run the load process, which uses Dask, so it's fast\n",
    "input_data = loader.load(cell)\n",
    "input_data"
   ]
  },
  {
   "cell_type": "code",
   "execution_count": null,
   "metadata": {},
   "outputs": [],
   "source": [
    "# Load data into memory. This will take 5-10 minutes or so.\n",
    "output_data = processor.process(input_data).compute()\n",
    "output_data"
   ]
  },
  {
   "cell_type": "code",
   "execution_count": null,
   "metadata": {},
   "outputs": [],
   "source": [
    "# Plot data.\n",
    "output_data.plot.imshow(robust=True)"
   ]
  },
  {
   "cell_type": "code",
   "execution_count": null,
   "metadata": {},
   "outputs": [],
   "source": [
    "writer = LocalDsWriter(itempath=dep_path)\n",
    "out_files = writer.write(output_data, item_id)"
   ]
  },
  {
   "cell_type": "code",
   "execution_count": null,
   "metadata": {},
   "outputs": [],
   "source": [
    "# Make sure written files are readable\n",
    "stac_path = writer.itempath.path(item_id, ext=\".stac-item.json\")\n",
    "\n",
    "item = Item.from_file(stac_path)\n",
    "item.validate()"
   ]
  }
 ],
 "metadata": {
  "kernelspec": {
   "display_name": "Python 3 (ipykernel)",
   "language": "python",
   "name": "python3"
  },
  "language_info": {
   "codemirror_mode": {
    "name": "ipython",
    "version": 3
   },
   "file_extension": ".py",
   "mimetype": "text/x-python",
   "name": "python",
   "nbconvert_exporter": "python",
   "pygments_lexer": "ipython3",
   "version": "3.11.5"
  }
 },
 "nbformat": 4,
 "nbformat_minor": 4
}
